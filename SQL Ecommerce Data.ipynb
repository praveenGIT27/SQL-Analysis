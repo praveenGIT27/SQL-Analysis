{
 "cells": [
  {
   "cell_type": "code",
   "execution_count": 1,
   "id": "79bdb550-c563-444c-88bd-693f26837054",
   "metadata": {},
   "outputs": [
    {
     "name": "stdout",
     "output_type": "stream",
     "text": [
      "Requirement already satisfied: pyodbc in c:\\users\\vsp27\\anaconda3\\lib\\site-packages (5.1.0)\n",
      "Requirement already satisfied: pandas in c:\\users\\vsp27\\anaconda3\\lib\\site-packages (2.2.2)\n",
      "Requirement already satisfied: numpy>=1.26.0 in c:\\users\\vsp27\\anaconda3\\lib\\site-packages (from pandas) (1.26.4)\n",
      "Requirement already satisfied: python-dateutil>=2.8.2 in c:\\users\\vsp27\\anaconda3\\lib\\site-packages (from pandas) (2.9.0.post0)\n",
      "Requirement already satisfied: pytz>=2020.1 in c:\\users\\vsp27\\anaconda3\\lib\\site-packages (from pandas) (2024.1)\n",
      "Requirement already satisfied: tzdata>=2022.7 in c:\\users\\vsp27\\anaconda3\\lib\\site-packages (from pandas) (2023.3)\n",
      "Requirement already satisfied: six>=1.5 in c:\\users\\vsp27\\anaconda3\\lib\\site-packages (from python-dateutil>=2.8.2->pandas) (1.16.0)\n",
      "Note: you may need to restart the kernel to use updated packages.\n"
     ]
    }
   ],
   "source": [
    "pip install pyodbc pandas"
   ]
  },
  {
   "cell_type": "code",
   "execution_count": 3,
   "id": "c685eb47-0521-4cc7-a0c7-0f78415941d1",
   "metadata": {},
   "outputs": [
    {
     "name": "stdout",
     "output_type": "stream",
     "text": [
      "             name\n",
      "0          master\n",
      "1          tempdb\n",
      "2           model\n",
      "3            msdb\n",
      "4  ecommerce_data\n",
      "5     EcommerceDB\n"
     ]
    },
    {
     "name": "stderr",
     "output_type": "stream",
     "text": [
      "C:\\Users\\vsp27\\AppData\\Local\\Temp\\ipykernel_32168\\2508350014.py:14: UserWarning: pandas only supports SQLAlchemy connectable (engine/connection) or database string URI or sqlite3 DBAPI2 connection. Other DBAPI2 objects are not tested. Please consider using SQLAlchemy.\n",
      "  df = pd.read_sql(query, conn)\n"
     ]
    }
   ],
   "source": [
    "import pyodbc\n",
    "import pandas as pd\n",
    "\n",
    "# Establish connection using Windows Authentication\n",
    "conn = pyodbc.connect(\n",
    "    'DRIVER={SQL Server};'\n",
    "    'SERVER=VSP_LENOVO;'  # Your server name from SSMS\n",
    "    'DATABASE=master;'  # Change this after creating your database\n",
    "    'Trusted_Connection=yes;'  # This enables Windows Authentication\n",
    ")\n",
    "\n",
    "# Test connection: List available databases\n",
    "query = \"SELECT name FROM sys.databases;\"\n",
    "df = pd.read_sql(query, conn)\n",
    "\n",
    "# Show databases\n",
    "print(df)"
   ]
  },
  {
   "cell_type": "code",
   "execution_count": 11,
   "id": "d431cdaa-b210-4604-adb9-dc35197b062c",
   "metadata": {},
   "outputs": [
    {
     "name": "stderr",
     "output_type": "stream",
     "text": [
      "C:\\Users\\vsp27\\AppData\\Local\\Temp\\ipykernel_32168\\1463780947.py:53: UserWarning: pandas only supports SQLAlchemy connectable (engine/connection) or database string URI or sqlite3 DBAPI2 connection. Other DBAPI2 objects are not tested. Please consider using SQLAlchemy.\n",
      "  existing_keys_df = pd.read_sql(existing_keys_query, conn)\n",
      "C:\\Users\\vsp27\\AppData\\Local\\Temp\\ipykernel_32168\\1463780947.py:53: UserWarning: pandas only supports SQLAlchemy connectable (engine/connection) or database string URI or sqlite3 DBAPI2 connection. Other DBAPI2 objects are not tested. Please consider using SQLAlchemy.\n",
      "  existing_keys_df = pd.read_sql(existing_keys_query, conn)\n"
     ]
    },
    {
     "name": "stdout",
     "output_type": "stream",
     "text": [
      "✅ No new rows to insert for customers\n",
      "✅ No new rows to insert for sellers\n"
     ]
    },
    {
     "name": "stderr",
     "output_type": "stream",
     "text": [
      "C:\\Users\\vsp27\\AppData\\Local\\Temp\\ipykernel_32168\\1463780947.py:53: UserWarning: pandas only supports SQLAlchemy connectable (engine/connection) or database string URI or sqlite3 DBAPI2 connection. Other DBAPI2 objects are not tested. Please consider using SQLAlchemy.\n",
      "  existing_keys_df = pd.read_sql(existing_keys_query, conn)\n"
     ]
    },
    {
     "name": "stdout",
     "output_type": "stream",
     "text": [
      "✅ No new rows to insert for orders\n"
     ]
    },
    {
     "name": "stderr",
     "output_type": "stream",
     "text": [
      "C:\\Users\\vsp27\\AppData\\Local\\Temp\\ipykernel_32168\\1463780947.py:53: UserWarning: pandas only supports SQLAlchemy connectable (engine/connection) or database string URI or sqlite3 DBAPI2 connection. Other DBAPI2 objects are not tested. Please consider using SQLAlchemy.\n",
      "  existing_keys_df = pd.read_sql(existing_keys_query, conn)\n"
     ]
    },
    {
     "name": "stdout",
     "output_type": "stream",
     "text": [
      "✅ No new rows to insert for order_items\n"
     ]
    },
    {
     "name": "stderr",
     "output_type": "stream",
     "text": [
      "C:\\Users\\vsp27\\AppData\\Local\\Temp\\ipykernel_32168\\1463780947.py:53: UserWarning: pandas only supports SQLAlchemy connectable (engine/connection) or database string URI or sqlite3 DBAPI2 connection. Other DBAPI2 objects are not tested. Please consider using SQLAlchemy.\n",
      "  existing_keys_df = pd.read_sql(existing_keys_query, conn)\n",
      "C:\\Users\\vsp27\\AppData\\Local\\Temp\\ipykernel_32168\\1463780947.py:53: UserWarning: pandas only supports SQLAlchemy connectable (engine/connection) or database string URI or sqlite3 DBAPI2 connection. Other DBAPI2 objects are not tested. Please consider using SQLAlchemy.\n",
      "  existing_keys_df = pd.read_sql(existing_keys_query, conn)\n"
     ]
    },
    {
     "name": "stdout",
     "output_type": "stream",
     "text": [
      "✅ No new rows to insert for payments\n",
      "✅ No new rows to insert for products\n"
     ]
    },
    {
     "name": "stderr",
     "output_type": "stream",
     "text": [
      "C:\\Users\\vsp27\\AppData\\Local\\Temp\\ipykernel_32168\\1463780947.py:53: UserWarning: pandas only supports SQLAlchemy connectable (engine/connection) or database string URI or sqlite3 DBAPI2 connection. Other DBAPI2 objects are not tested. Please consider using SQLAlchemy.\n",
      "  existing_keys_df = pd.read_sql(existing_keys_query, conn)\n"
     ]
    },
    {
     "name": "stdout",
     "output_type": "stream",
     "text": [
      "✅ Inserted 98410 rows into reviews\n"
     ]
    },
    {
     "name": "stderr",
     "output_type": "stream",
     "text": [
      "C:\\Users\\vsp27\\AppData\\Local\\Temp\\ipykernel_32168\\1463780947.py:53: UserWarning: pandas only supports SQLAlchemy connectable (engine/connection) or database string URI or sqlite3 DBAPI2 connection. Other DBAPI2 objects are not tested. Please consider using SQLAlchemy.\n",
      "  existing_keys_df = pd.read_sql(existing_keys_query, conn)\n"
     ]
    },
    {
     "name": "stdout",
     "output_type": "stream",
     "text": [
      "✅ No new rows to insert for geolocation\n",
      "✅ No new rows to insert for product_category_translation\n"
     ]
    },
    {
     "name": "stderr",
     "output_type": "stream",
     "text": [
      "C:\\Users\\vsp27\\AppData\\Local\\Temp\\ipykernel_32168\\1463780947.py:53: UserWarning: pandas only supports SQLAlchemy connectable (engine/connection) or database string URI or sqlite3 DBAPI2 connection. Other DBAPI2 objects are not tested. Please consider using SQLAlchemy.\n",
      "  existing_keys_df = pd.read_sql(existing_keys_query, conn)\n"
     ]
    }
   ],
   "source": [
    "import pyodbc\n",
    "import pandas as pd\n",
    "import os\n",
    "\n",
    "# SQL Server connection setup\n",
    "server = 'VSP_LENOVO'\n",
    "database = 'EcommerceDB'\n",
    "conn = pyodbc.connect(f\"DRIVER={{SQL Server}};SERVER={server};DATABASE={database};Trusted_Connection=yes;\")\n",
    "cursor = conn.cursor()\n",
    "\n",
    "# Folder path where all your CSVs are saved\n",
    "folder_path = r\"C:\\Users\\vsp27\\OneDrive\\Desktop\\Csv data\\Ecommerce Data\"\n",
    "\n",
    "# CSV filenames mapped to SQL table names\n",
    "csv_files = {\n",
    "    \"customers\": \"olist_customers_dataset.csv\",\n",
    "    \"sellers\": \"olist_sellers_dataset.csv\",\n",
    "    \"orders\": \"olist_orders_dataset.csv\",\n",
    "    \"order_items\": \"olist_order_items_dataset.csv\",\n",
    "    \"payments\": \"olist_order_payments_dataset.csv\",\n",
    "    \"products\": \"olist_products_dataset.csv\",\n",
    "    \"reviews\": \"olist_order_reviews_dataset.csv\",\n",
    "    \"geolocation\": \"olist_geolocation_dataset.csv\",\n",
    "    \"product_category_translation\": \"product_category_name_translation.csv\"\n",
    "}\n",
    "\n",
    "# Define primary keys for deduplication (optional: skip if not needed)\n",
    "primary_keys = {\n",
    "    \"customers\": \"customer_id\",\n",
    "    \"sellers\": \"seller_id\",\n",
    "    \"orders\": \"order_id\",\n",
    "    \"order_items\": \"order_id\",  # Composite key not handled here\n",
    "    \"payments\": \"order_id\",\n",
    "    \"products\": \"product_id\",\n",
    "    \"reviews\": \"review_id\",\n",
    "    \"geolocation\": \"geolocation_zip_code_prefix\",\n",
    "    \"product_category_translation\": \"product_category_name\"\n",
    "}\n",
    "\n",
    "# Function to load CSVs into SQL\n",
    "def load_csv_to_sql(table_name, csv_file, primary_key_column):\n",
    "    file_path = os.path.join(folder_path, csv_file)\n",
    "    df = pd.read_csv(file_path)\n",
    "\n",
    "    df = df.where(pd.notna(df), None)\n",
    "\n",
    "# Drop duplicate rows based on primary key\n",
    "    df.drop_duplicates(subset=primary_key_column, inplace=True)\n",
    "\n",
    "    # Check for duplicate rows already in SQL\n",
    "    try:\n",
    "        existing_keys_query = f\"SELECT {primary_key_column} FROM {table_name}\"\n",
    "        existing_keys_df = pd.read_sql(existing_keys_query, conn)\n",
    "\n",
    "        if primary_key_column in df.columns:\n",
    "            df = df[~df[primary_key_column].isin(existing_keys_df[primary_key_column])]\n",
    "        else:\n",
    "            print(f\"⚠️ Column {primary_key_column} not found in CSV for {table_name}, skipping deduplication.\")\n",
    "    except Exception as e:\n",
    "        print(f\"⚠️ Couldn't fetch existing keys for {table_name}: {e}\")\n",
    "\n",
    "    if df.empty:\n",
    "        print(f\"✅ No new rows to insert for {table_name}\")\n",
    "        return\n",
    "\n",
    "    # Prepare insert SQL\n",
    "    columns = \", \".join(df.columns)\n",
    "    placeholders = \", \".join([\"?\"] * len(df.columns))\n",
    "    insert_sql = f\"INSERT INTO {table_name} ({columns}) VALUES ({placeholders})\"\n",
    "\n",
    "    try:\n",
    "        records = df.itertuples(index=False, name=None)\n",
    "        cursor.executemany(insert_sql, list(records))\n",
    "        conn.commit()\n",
    "        print(f\"✅ Inserted {len(df)} rows into {table_name}\")\n",
    "    except Exception as e:\n",
    "        print(f\"❌ Failed to insert into {table_name}: {e}\")\n",
    "\n",
    "# Run for all tables\n",
    "for table, csv_file in csv_files.items():\n",
    "    pk = primary_keys.get(table, None)\n",
    "    load_csv_to_sql(table, csv_file, pk)\n"
   ]
  },
  {
   "cell_type": "code",
   "execution_count": 13,
   "id": "eb35d551-8fc6-4009-9aa2-8a8e64e56e5d",
   "metadata": {},
   "outputs": [
    {
     "name": "stdout",
     "output_type": "stream",
     "text": [
      "                      TableName  TotalRows\n",
      "0                     customers      99441\n",
      "1                       sellers       3095\n",
      "2                        orders      99441\n",
      "3                   order_items     112650\n",
      "4                      payments     103886\n",
      "5                      products      32340\n",
      "6                       reviews      98410\n",
      "7                   geolocation    1000163\n",
      "8  product_category_translation         71\n"
     ]
    },
    {
     "name": "stderr",
     "output_type": "stream",
     "text": [
      "C:\\Users\\vsp27\\AppData\\Local\\Temp\\ipykernel_32168\\3113994166.py:21: UserWarning: pandas only supports SQLAlchemy connectable (engine/connection) or database string URI or sqlite3 DBAPI2 connection. Other DBAPI2 objects are not tested. Please consider using SQLAlchemy.\n",
      "  df = pd.read_sql_query(query, conn)\n"
     ]
    }
   ],
   "source": [
    "query = \"\"\"\n",
    "SELECT 'customers' AS TableName, COUNT(*) AS TotalRows FROM customers\n",
    "UNION ALL\n",
    "SELECT 'sellers', COUNT(*) FROM sellers\n",
    "UNION ALL\n",
    "SELECT 'orders', COUNT(*) FROM orders\n",
    "UNION ALL\n",
    "SELECT 'order_items', COUNT(*) FROM order_items\n",
    "UNION ALL\n",
    "SELECT 'payments', COUNT(*) FROM payments\n",
    "UNION ALL\n",
    "SELECT 'products', COUNT(*) FROM products\n",
    "UNION ALL\n",
    "SELECT 'reviews', COUNT(*) FROM reviews\n",
    "UNION ALL\n",
    "SELECT 'geolocation', COUNT(*) FROM geolocation\n",
    "UNION ALL\n",
    "SELECT 'product_category_translation', COUNT(*) FROM product_category_translation;\n",
    "\"\"\"\n",
    "\n",
    "df = pd.read_sql_query(query, conn)\n",
    "print(df)\n"
   ]
  },
  {
   "cell_type": "code",
   "execution_count": 15,
   "id": "af40f96b-8857-424b-a776-cc51d62664d1",
   "metadata": {},
   "outputs": [
    {
     "name": "stderr",
     "output_type": "stream",
     "text": [
      "C:\\Users\\vsp27\\AppData\\Local\\Temp\\ipykernel_32168\\3386121512.py:16: UserWarning: pandas only supports SQLAlchemy connectable (engine/connection) or database string URI or sqlite3 DBAPI2 connection. Other DBAPI2 objects are not tested. Please consider using SQLAlchemy.\n",
      "  df = pd.read_sql_query(query, conn)\n"
     ]
    },
    {
     "name": "stdout",
     "output_type": "stream",
     "text": [
      "  customer_state   customer_city  total_orders  total_revenue\n",
      "0             SP       sao paulo         17808     1914924.54\n",
      "1             RJ  rio de janeiro          7837      992538.86\n",
      "2             MG  belo horizonte          3144      355611.13\n",
      "3             DF        brasilia          2392      301920.25\n",
      "4             PR        curitiba          1751      211738.06\n"
     ]
    }
   ],
   "source": [
    "query = \"\"\"\n",
    "SELECT TOP 5 \n",
    "       c.customer_state,\n",
    "       c.customer_city, \n",
    "       COUNT(o.order_id) AS total_orders,\n",
    "       SUM(oi.price) AS total_revenue\n",
    "FROM order_items oi\n",
    "JOIN orders o ON oi.order_id = o.order_id\n",
    "JOIN customers c ON o.customer_id = c.customer_id\n",
    "WHERE o.order_purchase_timestamp BETWEEN CAST('2016-01-01' AS DATETIME2) \n",
    "                                     AND CAST('2018-12-31' AS DATETIME2)\n",
    "GROUP BY c.customer_state, c.customer_city\n",
    "ORDER BY total_revenue DESC;\n",
    "\"\"\"\n",
    "\n",
    "df = pd.read_sql_query(query, conn)\n",
    "print(df)"
   ]
  },
  {
   "cell_type": "code",
   "execution_count": 17,
   "id": "53f649c0-e033-4671-a3d3-47c3ce9a4408",
   "metadata": {},
   "outputs": [
    {
     "name": "stdout",
     "output_type": "stream",
     "text": [
      "         month  active_customers  previous_month_customers    churn_rate\n",
      "0   2017-03-01              2682                      1780    -50.674157\n",
      "1   2017-10-01              4631                      4285     -8.074679\n",
      "2   2018-05-01              6873                      6939      0.951146\n",
      "3   2017-04-01              2404                      2682     10.365399\n",
      "4   2017-11-01              7544                      4631    -62.902181\n",
      "5   2018-06-01              6167                      6873     10.272079\n",
      "6   2017-05-01              3700                      2404    -53.910150\n",
      "7   2017-12-01              5673                      7544     24.801166\n",
      "8   2018-07-01              6292                      6167     -2.026917\n",
      "9   2016-10-01               324                         4  -8000.000000\n",
      "10  2017-06-01              3245                      3700     12.297297\n",
      "11  2018-01-01              7269                      5673    -28.133263\n",
      "12  2018-08-01              6512                      6292     -3.496503\n",
      "13  2017-02-01              1780                       800   -122.500000\n",
      "14  2017-09-01              4285                      4331      1.062110\n",
      "15  2018-04-01              6939                      7211      3.772015\n",
      "16  2016-12-01                 1                       324     99.691358\n",
      "17  2017-07-01              4026                      3245    -24.067797\n",
      "18  2018-02-01              6728                      7269      7.442564\n",
      "19  2018-09-01                16                      6512     99.754300\n",
      "20  2017-01-01               800                         1 -79900.000000\n",
      "21  2017-08-01              4331                      4026     -7.575758\n",
      "22  2018-03-01              7211                      6728     -7.178954\n",
      "23  2018-10-01                 4                        16     75.000000\n"
     ]
    },
    {
     "name": "stderr",
     "output_type": "stream",
     "text": [
      "C:\\Users\\vsp27\\AppData\\Local\\Temp\\ipykernel_32168\\3100904607.py:26: UserWarning: pandas only supports SQLAlchemy connectable (engine/connection) or database string URI or sqlite3 DBAPI2 connection. Other DBAPI2 objects are not tested. Please consider using SQLAlchemy.\n",
      "  df = pd.read_sql_query(query, conn)\n"
     ]
    }
   ],
   "source": [
    "query = \"\"\"\n",
    "WITH customer_activity AS (\n",
    "    SELECT \n",
    "        customer_id, \n",
    "        DATEFROMPARTS(YEAR(order_purchase_timestamp), MONTH(order_purchase_timestamp), 1) AS month\n",
    "    FROM orders\n",
    "    GROUP BY customer_id, DATEFROMPARTS(YEAR(order_purchase_timestamp), MONTH(order_purchase_timestamp), 1)\n",
    "),\n",
    "monthly_churn AS (\n",
    "    SELECT \n",
    "        month,\n",
    "        COUNT(DISTINCT customer_id) AS active_customers,\n",
    "        LAG(COUNT(DISTINCT customer_id)) OVER (ORDER BY month) AS previous_month_customers\n",
    "    FROM customer_activity\n",
    "    GROUP BY month\n",
    ")\n",
    "SELECT \n",
    "    month, \n",
    "    active_customers,\n",
    "    previous_month_customers,\n",
    "    (previous_month_customers - active_customers) * 100.0 / NULLIF(previous_month_customers, 0) AS churn_rate\n",
    "FROM monthly_churn\n",
    "WHERE previous_month_customers IS NOT NULL;\n",
    "\"\"\"\n",
    "\n",
    "df = pd.read_sql_query(query, conn)\n",
    "print(df)\n"
   ]
  },
  {
   "cell_type": "code",
   "execution_count": 19,
   "id": "49098761-6eec-4b69-9984-b59175fd748a",
   "metadata": {},
   "outputs": [
    {
     "name": "stderr",
     "output_type": "stream",
     "text": [
      "C:\\Users\\vsp27\\AppData\\Local\\Temp\\ipykernel_32168\\3412338657.py:46: UserWarning: pandas only supports SQLAlchemy connectable (engine/connection) or database string URI or sqlite3 DBAPI2 connection. Other DBAPI2 objects are not tested. Please consider using SQLAlchemy.\n",
      "  df = pd.read_sql_query(query, conn)\n"
     ]
    },
    {
     "name": "stdout",
     "output_type": "stream",
     "text": [
      "    year month_name  total_revenue  average_review_score  total_payment  \\\n",
      "0   2016  September         194.47                     4         252.24   \n",
      "1   2016    October       49580.55                     4         879.07   \n",
      "2   2016    October       49580.55                     4        9679.06   \n",
      "3   2016    October       49580.55                     4       48290.62   \n",
      "4   2016    October       49580.55                     4         241.73   \n",
      "..   ...        ...            ...                   ...            ...   \n",
      "84  2018     August     1072147.70                     4       34969.20   \n",
      "85  2018     August     1072147.70                     4           0.00   \n",
      "86  2018     August     1072147.70                     4      143805.90   \n",
      "87  2018  September       14502.50                     4        4439.54   \n",
      "88  2018  September       14502.50                     4           0.00   \n",
      "\n",
      "   payment_type  \n",
      "0   credit_card  \n",
      "1       voucher  \n",
      "2        boleto  \n",
      "3   credit_card  \n",
      "4    debit_card  \n",
      "..          ...  \n",
      "84      voucher  \n",
      "85  not_defined  \n",
      "86       boleto  \n",
      "87      voucher  \n",
      "88  not_defined  \n",
      "\n",
      "[89 rows x 6 columns]\n"
     ]
    }
   ],
   "source": [
    "query = \"\"\"\n",
    "SELECT \n",
    "    revenue.year,\n",
    "    revenue.month_name,\n",
    "    revenue.total_revenue,\n",
    "    reviews.average_review_score,\n",
    "    COALESCE(payments.total_payment, 0) AS total_payment,\n",
    "    payments.payment_type\n",
    "\n",
    "FROM \n",
    "    (SELECT \n",
    "        MONTH(oi.shipping_limit_date) AS month,\n",
    "        YEAR(oi.shipping_limit_date) AS year,\n",
    "        DATENAME(MONTH, oi.shipping_limit_date) AS month_name,  \n",
    "        SUM(oi.price) AS total_revenue\n",
    "    FROM order_items oi\n",
    "    WHERE oi.shipping_limit_date BETWEEN '2016-01-01' AND '2018-12-31'\n",
    "    GROUP BY YEAR(oi.shipping_limit_date), MONTH(oi.shipping_limit_date), DATENAME(MONTH, oi.shipping_limit_date)\n",
    "    ) revenue\n",
    "\n",
    "LEFT JOIN (\n",
    "    SELECT \n",
    "        MONTH(oi.shipping_limit_date) AS month,\n",
    "        AVG(r.review_score) AS average_review_score\n",
    "    FROM order_items oi\n",
    "    JOIN reviews r ON oi.order_id = r.order_id\n",
    "    GROUP BY MONTH(oi.shipping_limit_date)\n",
    "    ) reviews\n",
    "ON revenue.month = reviews.month\n",
    "\n",
    "LEFT JOIN (\n",
    "    SELECT \n",
    "        MONTH(o.order_purchase_timestamp) AS month,\n",
    "        YEAR(o.order_purchase_timestamp) AS year, \n",
    "        SUM(p.payment_value) AS total_payment,\n",
    "        p.payment_type\n",
    "    FROM payments p\n",
    "    JOIN orders o ON p.order_id = o.order_id\n",
    "    GROUP BY YEAR(o.order_purchase_timestamp), MONTH(o.order_purchase_timestamp), p.payment_type\n",
    "    ) payments\n",
    "\n",
    "ON revenue.year = payments.year AND revenue.month = payments.month\n",
    "ORDER BY revenue.year, revenue.month;\n",
    "\"\"\"\n",
    "\n",
    "df = pd.read_sql_query(query, conn)\n",
    "print(df)\n"
   ]
  },
  {
   "cell_type": "code",
   "execution_count": 21,
   "id": "1aca05a2-88fc-4dc4-87f5-c5a03b4bf1c6",
   "metadata": {},
   "outputs": [
    {
     "name": "stdout",
     "output_type": "stream",
     "text": [
      "    month_no month_name  Year2016  Year2017  Year2018\n",
      "0          1    January         0       176      4119\n",
      "1          2   February         0       846      3559\n",
      "2          3      March         0      1493      4242\n",
      "3          4      April         0      1147      4874\n",
      "4          5        May         0      2307      4386\n",
      "5          6       June         0      1983      4283\n",
      "6          7       July         0      2227      3634\n",
      "7          8     August         0      2652      5135\n",
      "8          9  September         0      2452        35\n",
      "9         10    October       126      2791         2\n",
      "10        11   November        30      2907         0\n",
      "11        12   December         2      4368         0\n"
     ]
    },
    {
     "name": "stderr",
     "output_type": "stream",
     "text": [
      "C:\\Users\\vsp27\\AppData\\Local\\Temp\\ipykernel_32168\\1233207488.py:23: UserWarning: pandas only supports SQLAlchemy connectable (engine/connection) or database string URI or sqlite3 DBAPI2 connection. Other DBAPI2 objects are not tested. Please consider using SQLAlchemy.\n",
      "  df = pd.read_sql_query(query, conn)\n"
     ]
    }
   ],
   "source": [
    "query = \"\"\"\n",
    "SELECT\n",
    "    a.month AS month_no,\n",
    "    DATENAME(MONTH, DATEFROMPARTS(2000, a.month, 1)) AS month_name,\n",
    "    SUM(CASE WHEN a.year = 2016 THEN 1 ELSE 0 END) AS Year2016,\n",
    "    SUM(CASE WHEN a.year = 2017 THEN 1 ELSE 0 END) AS Year2017,\n",
    "    SUM(CASE WHEN a.year = 2018 THEN 1 ELSE 0 END) AS Year2018\n",
    "FROM (\n",
    "    SELECT \n",
    "        customer_id,\n",
    "        order_id,\n",
    "        order_delivered_customer_date,  \n",
    "        order_status,\n",
    "        YEAR(order_delivered_customer_date) AS year,\n",
    "        MONTH(order_delivered_customer_date) AS month\n",
    "    FROM orders\n",
    "    WHERE order_status = 'delivered' AND order_delivered_customer_date IS NOT NULL\n",
    ") a\n",
    "GROUP BY a.month\n",
    "ORDER BY month_no ASC;\n",
    "\"\"\"\n",
    "\n",
    "df = pd.read_sql_query(query, conn)\n",
    "print(df)\n"
   ]
  },
  {
   "cell_type": "code",
   "execution_count": 23,
   "id": "fa38f6dd-d4e1-44be-bc86-247625cc873e",
   "metadata": {},
   "outputs": [
    {
     "name": "stderr",
     "output_type": "stream",
     "text": [
      "C:\\Users\\vsp27\\AppData\\Local\\Temp\\ipykernel_32168\\2676943189.py:15: UserWarning: pandas only supports SQLAlchemy connectable (engine/connection) or database string URI or sqlite3 DBAPI2 connection. Other DBAPI2 objects are not tested. Please consider using SQLAlchemy.\n",
      "  df = pd.read_sql_query(query, conn)\n"
     ]
    },
    {
     "data": {
      "image/png": "[encoded data removed]",
      "text/plain": [
       "<Figure size 1000x500 with 1 Axes>"
      ]
     },
     "metadata": {},
     "output_type": "display_data"
    }
   ],
   "source": [
    "import pandas as pd\n",
    "import matplotlib.pyplot as plt\n",
    "import sqlalchemy as sa\n",
    "from sqlalchemy import create_engine\n",
    "\n",
    "query = \"\"\"\n",
    "SELECT \n",
    "    MONTH(order_purchase_timestamp) AS month_no,\n",
    "    COUNT(order_id) AS total_orders\n",
    "FROM orders\n",
    "GROUP BY MONTH(order_purchase_timestamp)\n",
    "ORDER BY month_no;\n",
    "\"\"\"\n",
    "\n",
    "df = pd.read_sql_query(query, conn)\n",
    "\n",
    "plt.figure(figsize=(10,5))\n",
    "plt.bar(df[\"month_no\"], df[\"total_orders\"], color='skyblue')\n",
    "plt.xlabel(\"Month\")\n",
    "plt.ylabel(\"Total Orders\")\n",
    "plt.title(\"Orders Per Month\")\n",
    "plt.xticks(range(1,13))\n",
    "plt.grid(axis='y')\n",
    "plt.show()\n"
   ]
  },
  {
   "cell_type": "code",
   "execution_count": null,
   "id": "299769bc-315a-4fdb-9517-b7449761c425",
   "metadata": {},
   "outputs": [],
   "source": []
  },
  {
   "cell_type": "code",
   "execution_count": null,
   "id": "de4a937e-4241-4307-90a3-e730c65c0f74",
   "metadata": {},
   "outputs": [],
   "source": []
  },
  {
   "cell_type": "code",
   "execution_count": null,
   "id": "9538243e-0320-4322-b7ba-2c026cde4ab4",
   "metadata": {},
   "outputs": [],
   "source": []
  },
  {
   "cell_type": "code",
   "execution_count": null,
   "id": "d23277d5-ea6a-4238-8d19-80e18efadcc0",
   "metadata": {},
   "outputs": [],
   "source": []
  },
  {
   "cell_type": "code",
   "execution_count": null,
   "id": "e68684be-f850-4601-ba0f-3f94b6578000",
   "metadata": {},
   "outputs": [],
   "source": []
  },
  {
   "cell_type": "code",
   "execution_count": null,
   "id": "69a6a26c-5561-4be9-93da-52f9d6b858be",
   "metadata": {},
   "outputs": [],
   "source": []
  },
  {
   "cell_type": "code",
   "execution_count": null,
   "id": "94df3438-58cd-41ab-8f8c-6bbd7bdc3a05",
   "metadata": {},
   "outputs": [],
   "source": []
  },
  {
   "cell_type": "code",
   "execution_count": null,
   "id": "f74fcf94-2bc9-4546-99f8-5521b9aed7e6",
   "metadata": {},
   "outputs": [],
   "source": []
  },
  {
   "cell_type": "code",
   "execution_count": null,
   "id": "2c785157-0eae-44ae-8534-de88f061e692",
   "metadata": {},
   "outputs": [],
   "source": []
  },
  {
   "cell_type": "code",
   "execution_count": null,
   "id": "9f2a6bc7-0040-41d8-bbf3-a083e450533f",
   "metadata": {},
   "outputs": [],
   "source": []
  },
  {
   "cell_type": "code",
   "execution_count": null,
   "id": "280ff0ae-e8d5-48cc-929e-e467fd5efc3e",
   "metadata": {},
   "outputs": [],
   "source": []
  },
  {
   "cell_type": "code",
   "execution_count": null,
   "id": "9daa2431-f04b-40b7-a8a8-4881b79448ce",
   "metadata": {},
   "outputs": [],
   "source": []
  }
 ],
 "metadata": {
  "kernelspec": {
   "display_name": "Python [conda env:base] *",
   "language": "python",
   "name": "conda-base-py"
  },
  "language_info": {
   "codemirror_mode": {
    "name": "ipython",
    "version": 3
   },
   "file_extension": ".py",
   "mimetype": "text/x-python",
   "name": "python",
   "nbconvert_exporter": "python",
   "pygments_lexer": "ipython3",
   "version": "3.12.7"
  }
 },
 "nbformat": 4,
 "nbformat_minor": 5
}
